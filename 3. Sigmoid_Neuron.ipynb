{
  "nbformat": 4,
  "nbformat_minor": 0,
  "metadata": {
    "colab": {
      "name": "3. Sigmoid Neuron.ipynb",
      "provenance": [],
      "authorship_tag": "ABX9TyOyjWrBQx/R9WFAPNsdKs5C",
      "include_colab_link": true
    },
    "kernelspec": {
      "name": "python3",
      "display_name": "Python 3"
    },
    "language_info": {
      "name": "python"
    }
  },
  "cells": [
    {
      "cell_type": "markdown",
      "metadata": {
        "id": "view-in-github",
        "colab_type": "text"
      },
      "source": [
        "<a href=\"https://colab.research.google.com/github/snikhil17/Deep-Learning/blob/main/3.%20Sigmoid_Neuron.ipynb\" target=\"_parent\"><img src=\"https://colab.research.google.com/assets/colab-badge.svg\" alt=\"Open In Colab\"/></a>"
      ]
    },
    {
      "cell_type": "markdown",
      "metadata": {
        "id": "8roIDTCXG_Qb"
      },
      "source": [
        "# Class for Sigmoid Neuron"
      ]
    },
    {
      "cell_type": "code",
      "metadata": {
        "id": "YZMXIGL7Joi7"
      },
      "source": [
        "import numpy as np\n",
        "import matplotlib.pyplot as plt"
      ],
      "execution_count": 2,
      "outputs": []
    },
    {
      "cell_type": "code",
      "metadata": {
        "id": "Y58smzmwG9cp"
      },
      "source": [
        "class SigmoidNeuron:\n",
        "\n",
        "  def __init__(self):\n",
        "    self.w = None\n",
        "    self.b = None\n",
        "  \n",
        "  def perceptron(self, x):\n",
        "    return np.dot(x, self.w.T) + self.b\n",
        "\n",
        "  def sigmoid(self, x):\n",
        "    return 1.0 / (1.0 + np.exp(-x))\n",
        "\n",
        "  def grad_w(self, x, y):\n",
        "    y_pred = self.sigmoid(self.perceptron(x))\n",
        "    return (y_pred - y) * y_pred *  (1-y_pred) * x\n",
        "\n",
        "  def grad_b(self, x, y):\n",
        "    y_pred = self.sigmoid(self.perceptron(x))\n",
        "    return (y_pred - y) * y_pred *  (1-y_pred)\n",
        "\n",
        "  def fit(self, X, Y, epochs = 1, learning_rate = 1, initialise = True):\n",
        "    # Initialise w and b\n",
        "    if initialise:\n",
        "      self.w = np.random.randn(1,X.shape[1])\n",
        "      self.b = 0\n",
        "\n",
        "    for i in range(epochs):\n",
        "      dw = 0\n",
        "      db = 0\n",
        "      for x,y in zip(X, Y):\n",
        "        dw += self.grad_w(x,y)\n",
        "        db += self.grad_b(x,y)\n",
        "\n",
        "      self.w -= learning_rate * dw\n",
        "      self.b -= learning_rate * db"
      ],
      "execution_count": 10,
      "outputs": []
    },
    {
      "cell_type": "markdown",
      "metadata": {
        "id": "ra64BGhwJIRg"
      },
      "source": [
        "# Fit for toy Data"
      ]
    },
    {
      "cell_type": "code",
      "metadata": {
        "id": "6ZzkqSCyJKrI"
      },
      "source": [
        "X = np.asarray([[2.5,2.5], [4,-1], [1,4], [3,1.25], [2,4], [1,5]])\n",
        "Y = [1,1,1,0,0,0]\n"
      ],
      "execution_count": 11,
      "outputs": []
    },
    {
      "cell_type": "code",
      "metadata": {
        "id": "AaRoCAnuJlIO"
      },
      "source": [
        "sn = SigmoidNeuron()\n",
        "sn.fit(X, Y, 1, 0.25, True)"
      ],
      "execution_count": 12,
      "outputs": []
    },
    {
      "cell_type": "code",
      "metadata": {
        "colab": {
          "base_uri": "https://localhost:8080/"
        },
        "id": "gB9EkaoFKIjB",
        "outputId": "15385fc2-907a-4efe-cc5b-a0f598a922dc"
      },
      "source": [
        "sn.fit(X, Y, 1, 0.25, True)\n",
        "for i in range(10):\n",
        "  print(sn.w, sn.b)\n",
        "  sn.fit(X, Y, 1, 0.25, False)"
      ],
      "execution_count": 15,
      "outputs": [
        {
          "output_type": "stream",
          "name": "stdout",
          "text": [
            "[[1.62488607 0.56441363]] [-0.00430747]\n",
            "[[1.61734345 0.54543131]] [-0.00898302]\n",
            "[[1.60916808 0.52452282]] [-0.01409593]\n",
            "[[1.60023423 0.50127893]] [-0.01973649]\n",
            "[[1.59037489 0.47515152]] [-0.02602515]\n",
            "[[1.57936202 0.44538582]] [-0.03312704]\n",
            "[[1.56687383 0.41090838]] [-0.04127597]\n",
            "[[1.55243819 0.37013255]] [-0.05081578]\n",
            "[[1.53532893 0.32060433]] [-0.06227552]\n",
            "[[1.51436501 0.25832498]] [-0.07651232]\n"
          ]
        }
      ]
    },
    {
      "cell_type": "code",
      "metadata": {
        "id": "ZVRmZ1SRKadH"
      },
      "source": [
        ""
      ],
      "execution_count": null,
      "outputs": []
    }
  ]
}