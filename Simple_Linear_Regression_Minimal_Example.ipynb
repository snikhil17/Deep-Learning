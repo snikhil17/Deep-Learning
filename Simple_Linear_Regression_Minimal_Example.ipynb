{
  "nbformat": 4,
  "nbformat_minor": 0,
  "metadata": {
    "anaconda-cloud": {},
    "kernelspec": {
      "display_name": "Python 3",
      "language": "python",
      "name": "python3"
    },
    "language_info": {
      "codemirror_mode": {
        "name": "ipython",
        "version": 3
      },
      "file_extension": ".py",
      "mimetype": "text/x-python",
      "name": "python",
      "nbconvert_exporter": "python",
      "pygments_lexer": "ipython3",
      "version": "3.6.2"
    },
    "colab": {
      "name": "Simple Linear Regression- Minimal Example.ipynb",
      "provenance": [],
      "include_colab_link": true
    }
  },
  "cells": [
    {
      "cell_type": "markdown",
      "metadata": {
        "id": "view-in-github",
        "colab_type": "text"
      },
      "source": [
        "<a href=\"https://colab.research.google.com/github/snikhil17/Deep-Learning/blob/main/Simple_Linear_Regression_Minimal_Example.ipynb\" target=\"_parent\"><img src=\"https://colab.research.google.com/assets/colab-badge.svg\" alt=\"Open In Colab\"/></a>"
      ]
    },
    {
      "cell_type": "markdown",
      "metadata": {
        "id": "kc7NRvTv0SbU"
      },
      "source": [
        "# Simple Linear Regression. Minimal example"
      ]
    },
    {
      "cell_type": "markdown",
      "metadata": {
        "id": "H4LF5iXJ0Sbe"
      },
      "source": [
        "### Import the relevant libraries"
      ]
    },
    {
      "cell_type": "code",
      "metadata": {
        "id": "eDQzOEVj0Sbh"
      },
      "source": [
        "# We must always import the relevant libraries for our problem at hand. NumPy is a must for this example.\n",
        "import numpy as np\n",
        "\n",
        "# matplotlib and mpl_toolkits are not necessary. We employ them for the sole purpose of visualizing the results.  \n",
        "import matplotlib.pyplot as plt\n",
        "from mpl_toolkits.mplot3d import Axes3D"
      ],
      "execution_count": 1,
      "outputs": []
    },
    {
      "cell_type": "markdown",
      "metadata": {
        "id": "y60a1zJc0Sbl"
      },
      "source": [
        "### Generate random input data to train on"
      ]
    },
    {
      "cell_type": "code",
      "metadata": {
        "scrolled": false,
        "colab": {
          "base_uri": "https://localhost:8080/"
        },
        "id": "QGYhEySR0Sbo",
        "outputId": "eb740a6f-1617-477d-a9f8-e8b26bbeaa27"
      },
      "source": [
        "# First, we should declare a variable containing the size of the training set we want to generate.\n",
        "observations = 1000\n",
        "\n",
        "# We will work with two variables as inputs. You can think about them as x1 and x2 in our previous examples.\n",
        "# We have picked x and z, since it is easier to differentiate them.\n",
        "# We generate them randomly, drawing from an uniform distribution. There are 3 arguments of this method (low, high, size).\n",
        "# The size of xs and zs is observations by 1. In this case: 1000 x 1.\n",
        "xs = np.random.uniform(low=-10, high=10, size=(observations,1))\n",
        "zs = np.random.uniform(-10, 10, (observations,1))\n",
        "\n",
        "# Combine the two dimensions of the input into one input matrix. \n",
        "# This is the X matrix from the linear model y = x*w + b.\n",
        "# column_stack is a Numpy method, which combines two vectors into a matrix. Alternatives are stack, dstack, hstack, etc.\n",
        "inputs = np.column_stack((xs,zs))\n",
        "\n",
        "# Check if the dimensions of the inputs are the same as the ones we defined in the linear model lectures. \n",
        "# They should be n x k, where n is the number of observations, and k is the number of variables, so 1000 x 2.\n",
        "print (inputs.shape)"
      ],
      "execution_count": 2,
      "outputs": [
        {
          "output_type": "stream",
          "name": "stdout",
          "text": [
            "(1000, 2)\n"
          ]
        }
      ]
    },
    {
      "cell_type": "markdown",
      "metadata": {
        "id": "Ma6Kqn0m0Sbq"
      },
      "source": [
        "### Generate the targets we will aim at"
      ]
    },
    {
      "cell_type": "code",
      "metadata": {
        "colab": {
          "base_uri": "https://localhost:8080/"
        },
        "id": "ejgWfjFQ0Sbr",
        "outputId": "c3a0ae9f-3587-4357-a0c9-4ecf08c7383f"
      },
      "source": [
        "# We want to \"make up\" a function, use the ML methodology, and see if the algorithm has learned it.\n",
        "# We add a small random noise to the function i.e. f(x,z) = 2x - 3z + 5 + <small noise>\n",
        "noise = np.random.uniform(-1, 1, (observations,1))\n",
        "\n",
        "# Produce the targets according to the f(x,z) = 2x - 3z + 5 + noise definition.\n",
        "# In this way, we are basically saying: the weights should be 2 and -3, while the bias is 5.\n",
        "targets = 2*xs - 3*zs + 5 + noise\n",
        "\n",
        "# Check the shape of the targets just in case. It should be n x m, where m is the number of output variables, so 1000 x 1.\n",
        "print (targets.shape)"
      ],
      "execution_count": 3,
      "outputs": [
        {
          "output_type": "stream",
          "name": "stdout",
          "text": [
            "(1000, 1)\n"
          ]
        }
      ]
    },
    {
      "cell_type": "markdown",
      "metadata": {
        "id": "Z-UUCVx_0Sbt"
      },
      "source": [
        "### Plot the training data\n",
        "The point is to see that there is a strong trend that our model should learn to reproduce."
      ]
    },
    {
      "cell_type": "code",
      "metadata": {
        "colab": {
          "base_uri": "https://localhost:8080/",
          "height": 248
        },
        "id": "1FZUCPQb0Sbv",
        "outputId": "bd1623d0-e709-4f26-e994-8ece55581a69"
      },
      "source": [
        "# In order to use the 3D plot, the objects should have a certain shape, so we reshape the targets.\n",
        "# The proper method to use is reshape and takes as arguments the dimensions in which we want to fit the object.\n",
        "targets = targets.reshape(observations,)\n",
        "\n",
        "# Plotting according to the conventional matplotlib.pyplot syntax\n",
        "\n",
        "# Declare the figure\n",
        "fig = plt.figure()\n",
        "\n",
        "# A method allowing us to create the 3D plot\n",
        "ax = fig.add_subplot(111, projection='3d')\n",
        "\n",
        "# Choose the axes.\n",
        "ax.plot(xs, zs, targets)\n",
        "\n",
        "# Set labels\n",
        "ax.set_xlabel('xs')\n",
        "ax.set_ylabel('zs')\n",
        "ax.set_zlabel('Targets')\n",
        "\n",
        "# You can fiddle with the azim parameter to plot the data from different angles. Just change the value of azim=100\n",
        "# to azim = 0 ; azim = 200, or whatever. Check and see what happens.\n",
        "ax.view_init(azim=100)\n",
        "\n",
        "# So far we were just describing the plot. This method actually shows the plot. \n",
        "plt.show()\n",
        "\n",
        "# We reshape the targets back to the shape that they were in before plotting.\n",
        "# This reshaping is a side-effect of the 3D plot. Sorry for that.\n",
        "targets = targets.reshape(observations,1)"
      ],
      "execution_count": 4,
      "outputs": [
        {
          "output_type": "display_data",
          "data": {
            "image/png": "[encoded data removed]",
            "text/plain": [
              "<Figure size 432x288 with 1 Axes>"
            ]
          },
          "metadata": {
            "needs_background": "light"
          }
        }
      ]
    },
    {
      "cell_type": "markdown",
      "metadata": {
        "id": "xL3CoT1G0Sby"
      },
      "source": [
        "### Initialize variables"
      ]
    },
    {
      "cell_type": "code",
      "metadata": {
        "colab": {
          "base_uri": "https://localhost:8080/"
        },
        "id": "35Zpgxfo0Sbz",
        "outputId": "4ad80205-a09e-4f21-9b97-4798866e831e"
      },
      "source": [
        "# We will initialize the weights and biases randomly in some small initial range.\n",
        "# init_range is the variable that will measure that.\n",
        "# You can play around with the initial range, but we don't really encourage you to do so.\n",
        "# High initial ranges may prevent the machine learning algorithm from learning.\n",
        "init_range = 0.1\n",
        "\n",
        "# Weights are of size k x m, where k is the number of input variables and m is the number of output variables\n",
        "# In our case, the weights matrix is 2x1 since there are 2 inputs (x and z) and one output (y)\n",
        "weights = np.random.uniform(low=-init_range, high=init_range, size=(2, 1))\n",
        "\n",
        "# Biases are of size 1 since there is only 1 output. The bias is a scalar.\n",
        "biases = np.random.uniform(low=-init_range, high=init_range, size=1)\n",
        "\n",
        "#Print the weights to get a sense of how they were initialized.\n",
        "print (weights)\n",
        "print (biases)"
      ],
      "execution_count": 5,
      "outputs": [
        {
          "output_type": "stream",
          "name": "stdout",
          "text": [
            "[[0.03322578]\n",
            " [0.00248473]]\n",
            "[-0.01367786]\n"
          ]
        }
      ]
    },
    {
      "cell_type": "markdown",
      "metadata": {
        "id": "FSry_fyu0Sb1"
      },
      "source": [
        "### Set a learning rate"
      ]
    },
    {
      "cell_type": "code",
      "metadata": {
        "id": "_J6Vn9yx0Sb2"
      },
      "source": [
        "# Set some small learning rate (denoted eta in the lecture). \n",
        "# 0.02 is going to work quite well for our example. Once again, you can play around with it.\n",
        "# It is HIGHLY recommended that you play around with it.\n",
        "learning_rate = 0.02"
      ],
      "execution_count": 6,
      "outputs": []
    },
    {
      "cell_type": "markdown",
      "metadata": {
        "id": "JJZlT2VT0Sb3"
      },
      "source": [
        "### Train the model"
      ]
    },
    {
      "cell_type": "code",
      "metadata": {
        "scrolled": true,
        "colab": {
          "base_uri": "https://localhost:8080/"
        },
        "id": "vpptEN3-0Sb4",
        "outputId": "b22d1c7c-73c7-450b-ddb8-d10c778183b8"
      },
      "source": [
        "# We iterate over our training dataset 100 times. That works well with a learning rate of 0.02.\n",
        "# The proper number of iterations is something we will talk about later on, but generally\n",
        "# a lower learning rate would need more iterations, while a higher learning rate would need less iterations\n",
        "# keep in mind that a high learning rate may cause the loss to diverge to infinity, instead of converge to 0.\n",
        "for i in range (100):\n",
        "    \n",
        "    # This is the linear model: y = xw + b equation\n",
        "    outputs = np.dot(inputs,weights) + biases\n",
        "    # The deltas are the differences between the outputs and the targets\n",
        "    # Note that deltas here is a vector 1000 x 1\n",
        "    deltas = outputs - targets\n",
        "        \n",
        "    # We are considering the L2-norm loss, but divided by 2, so it is consistent with the lectures.\n",
        "    # Moreover, we further divide it by the number of observations.\n",
        "    # This is simple rescaling by a constant. We explained that this doesn't change the optimization logic,\n",
        "    # as any function holding the basic property of being lower for better results, and higher for worse results\n",
        "    # can be a loss function.\n",
        "    loss = np.sum(deltas ** 2) / 2 / observations\n",
        "    \n",
        "    # We print the loss function value at each step so we can observe whether it is decreasing as desired.\n",
        "    print (loss)\n",
        "    \n",
        "    # Another small trick is to scale the deltas the same way as the loss function\n",
        "    # In this way our learning rate is independent of the number of samples (observations).\n",
        "    # Again, this doesn't change anything in principle, it simply makes it easier to pick a single learning rate\n",
        "    # that can remain the same if we change the number of training samples (observations).\n",
        "    # You can try solving the problem without rescaling to see how that works for you.\n",
        "    deltas_scaled = deltas / observations\n",
        "    \n",
        "    # Finally, we must apply the gradient descent update rules from the relevant lecture.\n",
        "    # The weights are 2x1, learning rate is 1x1 (scalar), inputs are 1000x2, and deltas_scaled are 1000x1\n",
        "    # We must transpose the inputs so that we get an allowed operation.\n",
        "    weights = weights - learning_rate * np.dot(inputs.T,deltas_scaled)\n",
        "    biases = biases - learning_rate * np.sum(deltas_scaled)\n",
        "    \n",
        "    # The weights are updated in a linear algebraic way (a matrix minus another matrix)\n",
        "    # The biases, however, are just a single number here, so we must transform the deltas into a scalar.\n",
        "    # The two lines are both consistent with the gradient descent methodology. "
      ],
      "execution_count": 7,
      "outputs": [
        {
          "output_type": "stream",
          "name": "stdout",
          "text": [
            "227.8008124715981\n",
            "36.14955712354977\n",
            "14.372025859107481\n",
            "11.519563847532169\n",
            "10.810340802333684\n",
            "10.359538882151202\n",
            "9.952930373236981\n",
            "9.565441209855424\n",
            "9.193626430382153\n",
            "8.836554019529576\n",
            "8.493604582415266\n",
            "8.16421542589273\n",
            "7.847849889662405\n",
            "7.543992979163504\n",
            "7.252150114972335\n",
            "6.97184627890628\n",
            "6.70262523504172\n",
            "6.4440487864277785\n",
            "6.195696061772954\n",
            "5.9571628304050535\n",
            "5.728060844324977\n",
            "5.5080172062757375\n",
            "5.296673762797152\n",
            "5.0936865212783085\n",
            "4.898725090058872\n",
            "4.711472140667949\n",
            "4.5316228913252194\n",
            "4.358884610863664\n",
            "4.192976142266424\n",
            "4.033627445042319\n",
            "3.8805791556951252\n",
            "3.7335821655712644\n",
            "3.592397215398733\n",
            "3.456794505857374\n",
            "3.3265533235465994\n",
            "3.201461681741797\n",
            "3.0813159753546806\n",
            "2.9659206495359993\n",
            "2.855087881381187\n",
            "2.7486372742208895\n",
            "2.6463955639988095\n",
            "2.5481963372588887\n",
            "2.453879760282894\n",
            "2.363292318937468\n",
            "2.276286568807247\n",
            "2.1927208952073434\n",
            "2.1124592826845645\n",
            "2.0353710936322074\n",
            "1.9613308556581037\n",
            "1.8902180573597984\n",
            "1.8219169521744776\n",
            "1.7563163699843727\n",
            "1.6933095361710075\n",
            "1.6327938978237646\n",
            "1.5746709568199027\n",
            "1.5188461095043462\n",
            "1.465228492708281\n",
            "1.413730835855961\n",
            "1.3642693189189805\n",
            "1.3167634359868103\n",
            "1.2711358642315718\n",
            "1.22731233805373\n",
            "1.1852215282038845\n",
            "1.144794925683896\n",
            "1.1059667302383984\n",
            "1.068673743255177\n",
            "1.032855264900114\n",
            "0.9984529953192578\n",
            "0.9654109397472181\n",
            "0.9336753173674293\n",
            "0.9031944737759432\n",
            "0.8739187969062702\n",
            "0.8458006362784293\n",
            "0.8187942254407667\n",
            "0.7928556074783057\n",
            "0.7679425634663944\n",
            "0.7440145437531741\n",
            "0.7210326019590481\n",
            "0.6989593315857039\n",
            "0.677758805131527\n",
            "0.6573965156142897\n",
            "0.6378393204059576\n",
            "0.6190553872881686\n",
            "0.601014142640611\n",
            "0.5836862216779464\n",
            "0.5670434206542937\n",
            "0.5510586509574721\n",
            "0.5357058950182965\n",
            "0.5209601639631427\n",
            "0.5067974569408751\n",
            "0.49319472205792225\n",
            "0.4801298188579201\n",
            "0.46758148228485813\n",
            "0.4555292880710646\n",
            "0.44395361949369827\n",
            "0.4328356354456439\n",
            "0.42215723976882824\n",
            "0.4119010518000573\n",
            "0.4020503780814266\n",
            "0.39258918518925306\n"
          ]
        }
      ]
    },
    {
      "cell_type": "markdown",
      "metadata": {
        "id": "cceQur9v0Sb5"
      },
      "source": [
        "### Print weights and biases and see if we have worked correctly."
      ]
    },
    {
      "cell_type": "code",
      "metadata": {
        "colab": {
          "base_uri": "https://localhost:8080/"
        },
        "id": "rgkQieVK0Sb6",
        "outputId": "8aa15449-0307-4144-8833-bb2b73ac1f40"
      },
      "source": [
        "# We print the weights and the biases, so we can see if they have converged to what we wanted.\n",
        "# When declared the targets, following the f(x,z), we knew the weights should be 2 and -3, while the bias: 5.\n",
        "print (weights, biases)\n",
        "\n",
        "# Note that they may be convergING. So more iterations are needed."
      ],
      "execution_count": 8,
      "outputs": [
        {
          "output_type": "stream",
          "name": "stdout",
          "text": [
            "[[ 1.99687557]\n",
            " [-2.99927026]] [4.32601365]\n"
          ]
        }
      ]
    },
    {
      "cell_type": "markdown",
      "metadata": {
        "id": "rBFTOf6k0Sb8"
      },
      "source": [
        "### Plot last outputs vs targets\n",
        "Since they are the last ones at the end of the training, they represent the final model accuracy. <br/>\n",
        "The closer this plot is to a 45 degree line, the closer target and output values are."
      ]
    },
    {
      "cell_type": "code",
      "metadata": {
        "colab": {
          "base_uri": "https://localhost:8080/",
          "height": 279
        },
        "id": "nMf-ehJ30Sb8",
        "outputId": "e6882f73-5c09-45fd-d83a-1eafa1ce2868"
      },
      "source": [
        "# We print the outputs and the targets in order to see if they have a linear relationship.\n",
        "# Again, that's not needed. Moreover, in later lectures, that would not even be possible.\n",
        "plt.plot(outputs,targets)\n",
        "plt.xlabel('outputs')\n",
        "plt.ylabel('targets')\n",
        "plt.show()"
      ],
      "execution_count": 9,
      "outputs": [
        {
          "output_type": "display_data",
          "data": {
            "image/png": "[encoded data removed]",
            "text/plain": [
              "<Figure size 432x288 with 1 Axes>"
            ]
          },
          "metadata": {
            "needs_background": "light"
          }
        }
      ]
    }
  ]
}